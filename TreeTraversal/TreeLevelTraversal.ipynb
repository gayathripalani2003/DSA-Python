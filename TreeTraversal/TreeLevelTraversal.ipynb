{
  "nbformat": 4,
  "nbformat_minor": 0,
  "metadata": {
    "colab": {
      "provenance": []
    },
    "kernelspec": {
      "name": "python3",
      "display_name": "Python 3"
    },
    "language_info": {
      "name": "python"
    }
  },
  "cells": [
    {
      "cell_type": "code",
      "execution_count": 41,
      "metadata": {
        "id": "Y7OwtKMv4pXV"
      },
      "outputs": [],
      "source": [
        "class Node:\n",
        "    def __init__(self,data):\n",
        "        self.data = data\n",
        "        self.next = None"
      ]
    },
    {
      "cell_type": "code",
      "source": [
        "#Queue Implementation\n",
        "#Queue Implementation using singly Linked List\n",
        "\n",
        "\n",
        "class Queue:\n",
        "    def __init__(self):\n",
        "        self.head = self.tail = None\n",
        "\n",
        "    def push(self,data):\n",
        "        \"\"\" Time Complexity:O(1)\"\"\"\n",
        "        if(self.tail is None):\n",
        "            self.head = self.tail = Node(data) # O(1)\n",
        "        else:\n",
        "            self.tail.next = Node(data) # O(1)\n",
        "            self.tail = self.tail.next # O(1)\n",
        "            # O(1) + O(1) = O(1)\n",
        "        # O(1) or O(1) = O(1)\n",
        "\n",
        "    def pop(self):\n",
        "        \"\"\" Time Complexity:O(1)\"\"\"\n",
        "        if(self.head is None):\n",
        "            print(\"Queue is empty\")\n",
        "            return None\n",
        "        else:\n",
        "            temp = self.head\n",
        "            self.head = self.head.next #O(1)\n",
        "            if(self.head is None): #If you miss you will get dangling pointer issue - making the program to behanve unexpectedly.\n",
        "              self.tail = None\n",
        "            return temp.data\n",
        "\n",
        "\n",
        "\n",
        "    def Print(self):\n",
        "        \"\"\" Time Complexity:O(n)\"\"\"\n",
        "        temp = self.head # O(1)print(\"size of the stack is:\",stack.size())\n",
        "\n",
        "        if(temp is None):\n",
        "          print (\"Queue empty\")\n",
        "          return None\n",
        "\n",
        "        while(temp): # O(n)\n",
        "            print(temp.data) # O(1)\n",
        "            temp = temp.next # O(1)\n",
        "            # O(1) + O(1) = O(1)\n",
        "        # O(1) * O(n) = O(n)\n",
        "        # O(n) or O(1) = O(n)\n",
        "\n",
        "\n",
        "    def size(self):\n",
        "        count = 0\n",
        "        temp = self.head\n",
        "        while(temp):\n",
        "            count+=1\n",
        "            temp = temp.next\n",
        "        return (count)\n",
        "#check\n",
        "\"\"\"\n",
        "q = Queue()\n",
        "q.push(1)\n",
        "q.Print()\n",
        "q.pop()\n",
        "q.Print()\n",
        "q.pop()\n",
        "print(\"After Deleting Data:\")\n",
        "q.Print()\n",
        "q.push(8)\n",
        "q.push(10)\n",
        "print(\"After Pushing:\")\n",
        "q.push(11)\n",
        "q.Print()\n",
        "q.pop()\n",
        "q.Print()\n",
        "#Issue exists in pushing aftet poping.\"\"\""
      ],
      "metadata": {
        "colab": {
          "base_uri": "https://localhost:8080/",
          "height": 53
        },
        "id": "0TV-kUG94r9w",
        "outputId": "16d54f4f-13b6-4d10-e6d7-68c18f6b231d"
      },
      "execution_count": 42,
      "outputs": [
        {
          "output_type": "execute_result",
          "data": {
            "text/plain": [
              "'\\nq = Queue()\\nq.push(1)\\nq.Print()\\nq.pop()\\nq.Print()\\nq.pop()\\nprint(\"After Deleting Data:\")\\nq.Print()\\nq.push(8)\\nq.push(10)\\nprint(\"After Pushing:\")\\nq.push(11)\\nq.Print()\\nq.pop()\\nq.Print()\\n#Issue exists in pushing aftet poping.'"
            ],
            "application/vnd.google.colaboratory.intrinsic+json": {
              "type": "string"
            }
          },
          "metadata": {},
          "execution_count": 42
        }
      ]
    },
    {
      "cell_type": "code",
      "source": [
        "class LinkedList:\n",
        "  def __init__(self):\n",
        "    self.head = None\n",
        "\n",
        "  def insert(self,data):\n",
        "    if self.head is None:\n",
        "      self.head = Node(data)\n",
        "    else:\n",
        "      temp = self.head\n",
        "      while(temp.next is not None):\n",
        "        temp = temp.next\n",
        "      temp.next = Node(data)\n",
        "\n",
        "  def Print(self):\n",
        "    temp = self.head\n",
        "    while(temp is not None):\n",
        "      print(temp.data,\"-\",end=\"\")\n",
        "      temp  = temp.next\n",
        "\n",
        "#Check\n",
        "\"\"\"\n",
        "linkedlist = LinkedList()\n",
        "linkedlist.insert(1)\n",
        "linkedlist.insert(2)\n",
        "linkedlist.insert(3)\n",
        "linkedlist.insert(4)\n",
        "linkedlist.Print()\n",
        "\"\"\""
      ],
      "metadata": {
        "colab": {
          "base_uri": "https://localhost:8080/",
          "height": 35
        },
        "id": "22avWUfoMWL2",
        "outputId": "20cab605-7feb-4142-efd9-bad413a480d6"
      },
      "execution_count": 43,
      "outputs": [
        {
          "output_type": "execute_result",
          "data": {
            "text/plain": [
              "'\\nlinkedlist = LinkedList()\\nlinkedlist.insert(1)\\nlinkedlist.insert(2)\\nlinkedlist.insert(3)\\nlinkedlist.insert(4)\\nlinkedlist.Print()\\n'"
            ],
            "application/vnd.google.colaboratory.intrinsic+json": {
              "type": "string"
            }
          },
          "metadata": {},
          "execution_count": 43
        }
      ]
    },
    {
      "cell_type": "code",
      "source": [
        "#Tree Traversal\n",
        "\n",
        "#Tree Node\n",
        "class GenericTreeNode:\n",
        "  def __init__(self,data):\n",
        "    self.data = data\n",
        "    self.children = None # Linke List which will store all of its children\n",
        "\n",
        "\n",
        "#Sample Tree\n",
        "#Level 1\n",
        "node1 = GenericTreeNode('a')\n",
        "\n",
        "#Level 2\n",
        "LList = LinkedList()\n",
        "temp = GenericTreeNode('b')\n",
        "LList.insert(temp)#Linked List\n",
        "LList.insert(GenericTreeNode('c'))\n",
        "LList.insert(GenericTreeNode('d'))\n",
        "\n",
        "#Check Linked List is correct\n",
        "\"\"\"\n",
        "print(\"Linked List 1:\")\n",
        "print(LList.head.data.data)\n",
        "print(LList.head.next.data.data)\n",
        "print(LList.head.next.next.data.data)\n",
        "\"\"\"\n",
        "\n",
        "node1.children = LList.head\n",
        "\n",
        "#Level 3\n",
        "Llist2 = LinkedList()\n",
        "Llist2.insert(GenericTreeNode('e'))\n",
        "Llist2.insert(GenericTreeNode('f'))\n",
        "\n",
        "temp.children = Llist2.head\n",
        "\n",
        "#Check Linked List is correct\n",
        "\"\"\"\n",
        "print(\"Linked List 2:\")\n",
        "print(Llist2.head.data.data)\n",
        "print(Llist2.head.next.data.data)\n",
        "\"\"\"\n",
        "\n",
        "\n",
        "#Check linked list correct with Generic Pointer.\n",
        "\"\"\"\n",
        "print(\"check linked list correct with Generic Pointer\")\n",
        "print(node1.children.data.data)\n",
        "\"\"\"\n",
        "\n",
        "\n",
        "#Check queue working fine - Individually.\n",
        "\"\"\"\n",
        "print(\"Testing Queue:\")\n",
        "queue = Queue()\n",
        "queue.push(node1)\n",
        "print(\"Queue Size:\",queue.size())\n",
        "temp = queue.pop()\n",
        "print(\"After Popping:\",queue.size())\n",
        "print(temp.data)\n",
        "queue.push(node1) #It has temp.children\n",
        "print(\"Queue Size:\",queue.size())\n",
        "queue.Print()\n",
        "\"\"\"\n",
        "\n",
        "def treeTraverse(root):\n",
        "  queue = Queue()\n",
        "  queue.push(root)\n",
        "\n",
        "  while(queue.size() != 0 ):\n",
        "    temp = queue.pop()\n",
        "    print(temp.data,\"-\",end=\"\")\n",
        "\n",
        "    temp2 = temp.children\n",
        "\n",
        "    while (temp2 is not None):\n",
        "      #print(\"Inside loop\")\n",
        "      #print(temp2.data.data)\n",
        "      queue.push(temp2.data)\n",
        "      #print(temp2.data)\n",
        "      temp2 = temp2.next\n",
        "\n",
        "treeTraverse(node1)"
      ],
      "metadata": {
        "colab": {
          "base_uri": "https://localhost:8080/"
        },
        "id": "2tJVKjRmQbwD",
        "outputId": "5709ebcb-eb17-47b3-c38c-8147925d3e50"
      },
      "execution_count": 44,
      "outputs": [
        {
          "output_type": "stream",
          "name": "stdout",
          "text": [
            "a -b -c -d -e -f -"
          ]
        }
      ]
    }
  ]
}