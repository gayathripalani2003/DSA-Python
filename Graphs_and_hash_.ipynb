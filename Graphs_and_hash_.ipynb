{
  "nbformat": 4,
  "nbformat_minor": 0,
  "metadata": {
    "colab": {
      "provenance": []
    },
    "kernelspec": {
      "name": "python3",
      "display_name": "Python 3"
    },
    "language_info": {
      "name": "python"
    }
  },
  "cells": [
    {
      "cell_type": "code",
      "execution_count": 1,
      "metadata": {
        "id": "po1GXHrU7bvZ"
      },
      "outputs": [],
      "source": [
        "class GraphNode:\n",
        "    def __init__(self, nodename):\n",
        "        self.nodename = nodename\n",
        "        self.neighbours = []"
      ]
    },
    {
      "cell_type": "code",
      "source": [
        "class Graph:\n",
        "    def __init__(self):\n",
        "        self.node_list = {}\n",
        "\n",
        "    def add_edge(self, node1, node2):\n",
        "        #Add node1 if not exists\n",
        "        if node1 not in self.node_list:\n",
        "            self.node_list[node1] = GraphNode(node1)\n",
        "        #Add node2 if not exists\n",
        "        if node2 not in self.node_list:\n",
        "            self.node_list[node2] = GraphNode(node2)\n",
        "        #Undirected Graph Add each other as neighbours\n",
        "        self.node_list[node1].neighbours.append(node2)\n",
        "        self.node_list[node2].neighbours.append(node1)\n",
        "\n",
        "    def bfs(self, start):\n",
        "        visited = set()           # Step 1: Track visited nodes\n",
        "        queue = [start]           # Step 2: Initialize queue with start node\n",
        "\n",
        "        while queue:\n",
        "            current = queue.pop(0)  # Step 3: Dequeue front node\n",
        "            if current not in visited:\n",
        "                print(current, end=' ')   # Step 4: Visit the node\n",
        "                visited.add(current)      # Step 5: Mark as visited\n",
        "\n",
        "                # Step 6: Enqueue unvisited neighbours\n",
        "                for neighbour in self.node_list[current].neighbours:\n",
        "                    if neighbour not in visited:\n",
        "                        queue.append(neighbour)\n",
        "\n",
        "\n",
        "    def dfs(self, start, visited=None):\n",
        "          if visited is None:\n",
        "              visited = set()  # Step 1: Create visited set on first call\n",
        "\n",
        "          print(start, end=' ')      # Step 2: Visit the node\n",
        "          visited.add(start)         # Step 3: Mark as visited\n",
        "\n",
        "          # Step 4: Recursively visit unvisited neighbours\n",
        "          for neighbour in self.node_list[start].neighbours:\n",
        "              if neighbour not in visited:\n",
        "                  self.dfs(neighbour, visited)\n"
      ],
      "metadata": {
        "id": "iHPKufgu8AE2"
      },
      "execution_count": 13,
      "outputs": []
    },
    {
      "cell_type": "code",
      "source": [
        "graph = Graph()\n",
        "graph.add_edge('A', 'B')\n",
        "graph.add_edge('A', 'C')\n",
        "graph.add_edge('B', 'D')\n",
        "graph.add_edge('C', 'E')\n",
        "\n",
        "print(\"BFS:\")\n",
        "graph.bfs('A')\n",
        "\n",
        "print(\"\\nDFS:\")\n",
        "graph.dfs('A')"
      ],
      "metadata": {
        "colab": {
          "base_uri": "https://localhost:8080/"
        },
        "id": "a1HgRTWI8tuR",
        "outputId": "f80534ab-195d-436b-ba3d-3594522b917a"
      },
      "execution_count": 14,
      "outputs": [
        {
          "output_type": "stream",
          "name": "stdout",
          "text": [
            "BFS:\n",
            "A B C D E \n",
            "DFS:\n",
            "A B D C E "
          ]
        }
      ]
    },
    {
      "cell_type": "code",
      "source": [
        "class Student:\n",
        "    def __init__(self, rollno, name):\n",
        "        self.rollno = rollno\n",
        "        self.name = name"
      ],
      "metadata": {
        "id": "DdYJStOf811u"
      },
      "execution_count": 15,
      "outputs": []
    },
    {
      "cell_type": "code",
      "source": [
        "class HashTable:\n",
        "    def __init__(self, size=10):\n",
        "        self.size = size\n",
        "        self.data = [[] for _ in range(size)]\n",
        "\n",
        "    def hash_function(self, key):\n",
        "        return sum(ord(c) for c in key) % self.size\n",
        "\n",
        "    def add(self, student):\n",
        "        key = student.name\n",
        "        index = self.hash_function(key)\n",
        "        self.data[index].append(student)\n",
        "\n",
        "    def search(self, name):\n",
        "        index = self.hash_function(name)\n",
        "        for student in self.data[index]:\n",
        "            if student.name == name:\n",
        "                return student\n",
        "        return None\n"
      ],
      "metadata": {
        "id": "AQoZXrAP83by"
      },
      "execution_count": 16,
      "outputs": []
    },
    {
      "cell_type": "code",
      "source": [
        "ht = HashTable()\n",
        "\n",
        "s1 = Student(1, \"gayathri\")\n",
        "s2 = Student(2, \"anumitha\")\n",
        "s3 = Student(3, \"vinith\")\n",
        "\n",
        "ht.add(s1)\n",
        "ht.add(s2)\n",
        "ht.add(s3)\n",
        "\n",
        "result = ht.search(\"gayathri\")\n",
        "print(result.rollno)\n",
        "\n",
        "not_found = ht.search(\"kokilavani\")\n",
        "print(not_found)"
      ],
      "metadata": {
        "colab": {
          "base_uri": "https://localhost:8080/"
        },
        "id": "YEykFSKb8-bq",
        "outputId": "1d28422a-0cff-4555-b23b-1d52b566a852"
      },
      "execution_count": 12,
      "outputs": [
        {
          "output_type": "stream",
          "name": "stdout",
          "text": [
            "1\n",
            "None\n"
          ]
        }
      ]
    },
    {
      "cell_type": "markdown",
      "source": [
        " ## Let's say you have a hash function that gives only m buckets.  \n",
        "   ## You have 'n' data where n >>> m                                \n",
        "   ## What is the time complexity for search?"
      ],
      "metadata": {
        "id": "5vwoCM9f_zFd"
      }
    },
    {
      "cell_type": "markdown",
      "source": [
        "If many elements hash to the same bucket ( many collisions), each bucket could contain n/m elements.\n",
        "\n",
        "Search in a bucket is O(k) where k = n/m\n",
        "\n",
        "So, Worst-case search time = O(n/m) = O(n) when m is constant or small\n",
        "\n",
        "When n >> m, the hash table degrades to linear time search → O(n)."
      ],
      "metadata": {
        "id": "H1-8QJv4_nLe"
      }
    }
  ]
}