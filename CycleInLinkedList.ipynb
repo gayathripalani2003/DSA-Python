{
  "cells": [
    {
      "cell_type": "code",
      "execution_count": null,
      "metadata": {
        "id": "toChyLBVDmdO"
      },
      "outputs": [],
      "source": [
        "# @title CycleInLinkedList\n",
        "#Finding Cycle in a linked list\n",
        "class CheckCycle:\n",
        "  def __init__(self,head):\n",
        "    self.head=head\n",
        "\n",
        "#O(n) Solution\n",
        "  def checkCycle(self):\n",
        "    array = []\n",
        "    temp = self.head\n",
        "    while(temp):\n",
        "        if(temp in array):\n",
        "            return True\n",
        "        array.append(temp)\n",
        "        temp = temp.next\n",
        "    return False\n",
        "\n",
        "\n",
        "#O(1) Solution\n",
        "  def checkCycle(self):\n",
        "    slow = fast = self.head\n",
        "    while(slow and fast and fast.next):\n",
        "        slow = slow.next\n",
        "        fast = fast.next.next\n",
        "        if(slow == fast):\n",
        "            return True\n",
        "    return False"
      ]
    },
    {
      "cell_type": "code",
      "execution_count": null,
      "metadata": {
        "colab": {
          "base_uri": "https://localhost:8080/"
        },
        "id": "zyRrapyLGZe5",
        "outputId": "eccdcd85-a5a5-4b56-e0cc-650f2b82bfc3"
      },
      "outputs": [
        {
          "name": "stdout",
          "output_type": "stream",
          "text": [
            "No Cycle Found\n"
          ]
        }
      ],
      "source": [
        "#Test cases\n",
        "# Test case - 1 : Linked List\n",
        "class Node:\n",
        "  def __init__(self,val):\n",
        "    self.id = val\n",
        "    self.next = None\n",
        "\n",
        "head = Node(1)\n",
        "head.next = Node(2)\n",
        "head.next.next = Node(3)\n",
        "head.next.next.next = Node(4)\n",
        "head.next.next.next.next = Node(5)\n",
        "\n",
        "\n",
        "#Test\n",
        "check = CheckCycle(head)\n",
        "if(check.checkCycle()):\n",
        "  print(\"Cycle Found\")\n",
        "else:\n",
        "  print(\"No Cycle Found\")"
      ]
    },
    {
      "cell_type": "code",
      "execution_count": null,
      "metadata": {
        "colab": {
          "base_uri": "https://localhost:8080/"
        },
        "id": "79oJFIYlLDig",
        "outputId": "28e200c6-b737-48ed-ef10-ee727681979a"
      },
      "outputs": [
        {
          "name": "stdout",
          "output_type": "stream",
          "text": [
            "Cycle Found\n"
          ]
        }
      ],
      "source": [
        "#Test case - 2: Linked List with Cycle\n",
        "head = Node(1)\n",
        "head.next  = temp = Node(2)\n",
        "head.next.next = Node(3)\n",
        "head.next.next.next = temp\n",
        "\n",
        "#Test\n",
        "check = CheckCycle(head)\n",
        "if(check.checkCycle()):\n",
        "  print(\"Cycle Found\")\n",
        "else:\n",
        "  print(\"No Cycle Found\")"
      ]
    },
    {
      "cell_type": "code",
      "execution_count": null,
      "metadata": {
        "colab": {
          "base_uri": "https://localhost:8080/"
        },
        "id": "whF9Ogu-L1M-",
        "outputId": "d8f478fe-6144-4cf5-97a4-b278a8be3eb4"
      },
      "outputs": [
        {
          "name": "stdout",
          "output_type": "stream",
          "text": [
            "Cycle Found\n"
          ]
        }
      ],
      "source": [
        "#Test Case - 3: Circluar Linked List\n",
        "\n",
        "head = temp = Node(1)\n",
        "head.next = Node(2)\n",
        "head.next.next = Node(3)\n",
        "head.next.next.next = temp\n",
        "\n",
        "#Test\n",
        "check = CheckCycle(head)\n",
        "if(check.checkCycle()):\n",
        "  print(\"Cycle Found\")\n",
        "else:\n",
        "  print(\"No Cycle Found\")"
      ]
    },
    {
      "cell_type": "code",
      "execution_count": 2,
      "metadata": {
        "colab": {
          "base_uri": "https://localhost:8080/"
        },
        "id": "kONLzAR1PC-7",
        "outputId": "9b74eccd-b806-40c7-93f5-bda904c6967a"
      },
      "outputs": [
        {
          "output_type": "stream",
          "name": "stdout",
          "text": [
            "['h', 'x', 'g', 'x', 'j', 'f', 'v', 'w', 'r', 't', 'n', 'i', 'x', 't', 'n', 'u', 'o', 'w', 'y', 'b', 'c', 'y', 'x', 'g', 'r', 'a', 't', 'z', 't', 'x', 'k', 'a', 'v', 'o', 'e', 'i', 'c', 'n', 'x', 'w', 'b', 'r', 't', 'b', 'e', 'c', 'k', 'o', 'g', 'g', 'g', 'p', 'n', 'b', 'r', 'p', 'l', 'v', 'b', 'w', 'm', 'i', 'j', 'u', 'b', 'm', 'y', 'm', 'w', 'q', 'm', 'x', 'e', 'm', 'l', 'u', 'j', 'x', 'd', 'c', 'v', 'n', 'q', 'y', 'x', 'q', 'h', 'h', 'k', 'l', 'q', 'f', 'k', 'm', 'q', 'o', 'j', 'd', 'l', 'f', 'b', 'p', 'w', 'h', 'n', 'g', 'x', 'c', 'c', 'i', 'k', 't', 'm', 'y', 'x', 'c', 'o', 'h', 'y', 'y', 'g', 'q', 'h', 'g', 'k', 'o', 'a', 'f', 'g', 'l', 'k', 'l', 'z', 'v', 's', 'q', 'w', 'l', 'j', 'u', 'v', 'k', 'x', 'o', 'h', 'g', 'd', 'h', 'h', 'f', 'v', 's', 'm', 'z', 'u', 'l', 'g', 's', 'j', 'f', 'y', 'h', 'p', 'a', 'd', 'l', 'g', 'w', 'b', 'm', 'v', 'm', 's', 'k', 'z', 'l', 'b', 'z', 'd', 'e', 'j', 'j', 'x', 'f', 'w', 'f', 'q', 'a', 'f', 'm', 'n', 'k', 'j', 'p', 'x', 'l', 'v', 'b', 'o', 'e', 't', 's', 'm', 'v', 'v', 'c', 'k', 'q', 't', 'q', 'g', 'n', 'c', 'h', 'l', 'k', 'j', 'y', 'i', 'x', 'n', 'g', 'w', 'v', 'n', 'v', 'f', 'h', 'k', 'x', 'j', 'h', 'y', 'i', 'l', 's', 'c', 's', 'l', 'b', 'n', 'l', 'j', 'i', 'r', 'j', 's', 'n', 'n', 'h', 'n', 'w', 'b', 'f', 'x', 'p', 'p', 'p', 'e', 'c', 'h', 'b', 'm', 'p', 'j', 'n', 'e', 'q', 'l', 'b', 'i', 'u', 'k', 'v', 'r', 'v', 'v', 'q', 'f', 'g', 'x', 'd', 'u', 'p', 'd', 'l', 'y', 'q', 'k', 'g', 'w', 'l', 'w', 'm', 'f', 'k', 'y', 'd', 'r', 'b', 'n', 'x', 'b', 'c', 'd', 't', 'j', 'p', 'c', 'r', 'p', 'u', 'q', 'f', 'r', 'b', 'u', 'h', 'a', 'b', 'p', 'v', 'u', 'b', 'w', 'j', 'i', 'g', 'e', 'x', 'n', 'm', 'u', 'd', 'r', 'f', 's', 'v', 'a', 'u', 'n', 'm', 't', 'h', 'k', 'h', 'm', 'u', 'l', 'y', 'k', 'm', 'b', 'c', 'j', 'd', 'f', 't', 'g', 'm', 'e', 'g', 'u', 'h', 'v', 'y', 'k', 't', 'p', 'h', 'l', 's', 'r', 'e', 'y', 't', 'z', 'c', 'y', 'f', 'j', 't', 'r', 'f', 'u', 'u', 'c', 'a', 'f', 'j', 'g', 'z', 'm', 'a', 'p', 'x', 'm', 'd', 'd', 'o', 'p', 't', 'w', 'a', 'x', 'j', 't', 't', 'c', 'x', 'h', 's', 'd', 'p', 'e', 'o', 'm', 'm', 'x', 'j', 'c', 'l', 'z', 'j', 'b', 'l', 'd', 'v', 'i', 'e', 'u', 'q', 'y', 'o', 'y', 't', 'c', 'j', 'a', 'd', 'd', 'l', 'o', 'n', 'u', 'f', 'u', 'e', 'q', 'd', 's', 'p', 'i', 'b', 's', 'm', 'p', 'h', 'b', 'b', 'y', 'm', 'i', 'b', 'z', 'u', 'w', 'f', 'j', 'v', 'o', 'd', 'h', 't', 'z', 'j', 'n', 'k', 'z', 'w', 'e', 's', 'y', 't', 'm', 'v', 'z', 'e', 'u', 'x', 'c', 'f', 'u', 'i', 'w', 'l', 'r', 'p', 'n', 'e', 'm', 't', 'l', 'b', 'k', 't', 'n', 'u', 'z', 'q', 'z', 'f', 'y', 's', 'e', 'u', 'd', 'l', 'p', 'v', 'u', 'p', 'u', 'e', 'd', 'n', 'l', 'x', 'f', 'a', 's', 'f', 'o', 'b', 'r', 'n', 'h', 'z', 'b', 'd', 'e', 'd', 'h', 'c', 's', 'd', 'f', 'n', 'r', 'x', 'k', 'v', 'a', 'o', 'p', 's', 'p', 'd', 'x', 'z', 'o', 'd', 'z', 'w', 'k', 'y', 'e', 'j', 'e', 'u', 'l', 'u', 'y', 'i', 'z', 's', 'h', 'k', 'u', 'q', 'b', 'l', 'd', 'r', 'l', 'e', 'm', 'y', 'e', 'j', 't', 'e', 't', 'o', 'z', 'f', 'k', 'g', 'g', 'd', 'm', 's', 'o', 'b', 'c', 'j', 'u', 'r', 's', 'p', 'v', 'k', 'o', 'g', 'j', 'e', 'i', 'i', 's', 'w', 'k', 'a', 'j', 'p', 'e', 't', 't', 'c', 'v', 't', 'p', 'o', 'b', 'a', 'j', 'm', 'i', 'o', 'p', 'd', 'j', 'b', 'a', 'l', 's', 'l', 'b', 'm', 'n', 'x', 'l', 'd', 'j', 'r', 'l', 'e', 'p', 'm', 'p', 'a', 'z', 'j', 'g', 'k', 'd', 'a', 'k', 'o', 'c', 'x', 'q', 'e', 'c', 'n', 'z', 'h', 'y', 'j', 'l', 'q', 'n', 'f', 'i', 'e', 'l', 'p', 'x', 'p', 'v', 'f', 'b', 'k', 'x', 'r', 'h', 'o', 'g', 'b', 'k', 'n', 'm', 'n', 'g', 'n', 'q', 'x', 'u', 's', 'o', 'e', 'r', 'n', 'a', 'j', 'v', 'n', 't', 'v', 'b', 'q', 'v', 'x', 'z', 'h', 'b', 'j', 'w', 'w', 'u', 'n', 'y', 'w', 'n', 'r', 'f', 'u', 'a', 'q', 'c', 'y', 'u', 'k', 'i', 'v', 'r', 'l', 'f', 'm', 'i', 'd', 'w', 'v', 'f', 'u', 'g', 'p', 'f', 'y', 'e', 'i', 's', 'a', 's', 'l', 'h', 'n', 'd', 'p', 'a', 'x', 'd', 'n', 'y', 'u', 'f', 'p', 's', 'n', 'g', 'i', 'k', 'a', 'k', 'x', 'd', 'k', 'p', 'w', 'p', 't', 'p', 'z', 'z', 'c', 'y', 'l', 't', 'p', 'j', 'j', 'a', 'b', 'c', 'g', 'd', 'z', 'f', 'm', 'e', 'm', 'l', 'k', 'l', 'b', 'x', 'i', 'k', 'z', 'x', 'h', 'o', 'r', 'k', 'a', 'g', 'g', 'w', 'e', 'p', 'j', 'x', 'l', 'q', 'z', 'd', 'g', 'h', 'h', 'p', 't', 'z', 't', 'e', 'h', 'm', 'y', 'o', 'k', 'g', 'p', 'u', 'e', 'm', 'y', 'z', 'b', 'l', 'l', 'm', 'o', 'p', 'c', 's', 'x', 'r', 'f', 'g', 'e', 'z', 'f', 't', 'v', 'r', 'v', 'n', 'v', 'e', 'n', 'y', 'k', 'n', 'c', 'f', 'b', 'z', 'b', 'e', 't', 'f', 'k', 'u', 'h', 'i', 'a', 'i', 'f', 'h', 'q', 'x', 'f', 's', 'r', 'u', 'm', 'e', 'a', 'i', 'm', 'f', 'b', 'r', 'o', 'b', 'g', 'z', 'j', 'q', 'w', 'y', 'h', 's', 'c', 's', 'w', 'v', 's', 'b', 'c', 'n', 'm', 'b', 'i', 'r', 'i', 'n', 'e', 't', 'x', 'g', 'j', 'x', 'c', 'v', 'g', 'h', 't', 'd', 's', 's', 'p', 'd', 'w', 'c', 'z', 'w', 't', 'w', 'm', 'c', 'f', 'v', 'b', 'u', 's', 'c', 'x', 'c', 'b', 'k', 'c', 'f', 't', 'i', 'q', 'i', 'h', 'z', 'n', 'i', 'z', 'a', 'o', 'n', 'o', 'r', 'i', 't', 'q', 'u', 'y', 'w', 'r', 'w', 'v', 'k', 'n', 'l', 'k', 'f', 'q']\n",
            "1000\n",
            "srumeaimfbrobgzjqwyhscswvsbcnmbirinetxgjxcvghtdsspdwczwtwmcfvbuscxcbkcftiqihznizaonoritquywrwvknlkfq\n",
            "srumeaimfbrobgzjqwyhscswvsbcnmbirinetxgjxcvghtdsspdwczwtwmcfvbuscxcbkcftiqihznizaonoritquywrwvknlkfq"
          ]
        }
      ],
      "source": [
        "# @title CircularLinkedList\n",
        "\n",
        "# Circular Buffer\n",
        "class Node:\n",
        "  def __init__(self):\n",
        "    self.id = None\n",
        "    self.next = None\n",
        "\n",
        "#Create circular Buffer\n",
        "temp = head = Node()\n",
        "for i in range(99):\n",
        "  temp.next = Node()\n",
        "  temp = temp.next\n",
        "temp.next = head\n",
        "\n",
        "#Generate 1000 random words.\n",
        "import random\n",
        "data =[]\n",
        "for i in range(1000):\n",
        "  data.append(chr(random.randint(97,122)))\n",
        "print(data)\n",
        "print(len(data))\n",
        "\n",
        "#Store values in circualr linkedlist\n",
        "temp = head\n",
        "for i in data:\n",
        "  temp.id = i\n",
        "  temp = temp.next\n",
        "\n",
        "#print circualr linked list\n",
        "temp = head\n",
        "while(temp.next!=head):\n",
        "  print(temp.id,end=\"\")\n",
        "  temp = temp.next\n",
        "print(temp.id)\n",
        "\n",
        "#Print last 100 value of the data\n",
        "for i in range(900,1000):\n",
        "  print(data[i],end=\"\")\n",
        "\n"
      ]
    },
    {
      "cell_type": "code",
      "source": [
        "# @title Reverse a Linked List using Stack\n",
        "#Reverse a linked list using the stack\n",
        "class Node:\n",
        "  def __init__(self,val):\n",
        "    self.id = val\n",
        "    self.next = None\n",
        "\n",
        "class ReverseLinkedList:\n",
        "\n",
        "  def __init__(self,head):\n",
        "    self.head = head\n",
        "\n",
        "  def reverse(self):\n",
        "    stack = []\n",
        "    temp = self.head\n",
        "    while(temp):\n",
        "      stack.append(temp.id)\n",
        "      temp = temp.next\n",
        "    temp = self.head\n",
        "    while(temp):\n",
        "      temp.id = stack.pop()\n",
        "      temp = temp.next\n",
        "\n",
        "#Test\n",
        "#create a linked list\n",
        "head = Node(0)\n",
        "temp = head\n",
        "for i in range(1,11):\n",
        "  temp.next = Node(i)\n",
        "  temp = temp.next\n",
        "#print actual linked list\n",
        "temp = head\n",
        "while(temp):\n",
        "  print(temp.id,end=\" \")\n",
        "  temp = temp.next\n",
        "print()\n",
        "#reverse the linked list\n",
        "reverse = ReverseLinkedList(head)\n",
        "reverse.reverse()\n",
        "#print reversed linked list\n",
        "temp = head\n",
        "while(temp):\n",
        "  print(temp.id,end=\" \")\n",
        "  temp = temp.next\n",
        "\n"
      ],
      "metadata": {
        "colab": {
          "base_uri": "https://localhost:8080/"
        },
        "id": "AELvuC5UXDU2",
        "outputId": "1f598886-895d-4947-a412-083ac1b02ea9"
      },
      "execution_count": 3,
      "outputs": [
        {
          "output_type": "stream",
          "name": "stdout",
          "text": [
            "0 1 2 3 4 5 6 7 8 9 10 \n",
            "10 9 8 7 6 5 4 3 2 1 0 "
          ]
        }
      ]
    },
    {
      "cell_type": "code",
      "source": [
        "# @title Reverse linked list without stack\n",
        "#Reverse a linked list without using the stack\n",
        "class Node:\n",
        "    def __init__(self, val):\n",
        "        self.id = val\n",
        "        self.next = None\n",
        "\n",
        "class ReverseLinkedList:\n",
        "    def __init__(self, head):\n",
        "        self.head = head\n",
        "\n",
        "    def reverse(self):\n",
        "        prev = None\n",
        "        current = self.head\n",
        "        while current:\n",
        "            next_node = current.next  # Store the next node\n",
        "            current.next = prev  # Reverse the current node pointer\n",
        "            prev = current  # Move prev forward\n",
        "            current = next_node  # Move current forward\n",
        "        self.head = prev  # Update head to new front of list\n",
        "\n",
        "# Test\n",
        "# Create a linked list\n",
        "head = Node(0)\n",
        "temp = head\n",
        "for i in range(1, 11):\n",
        "    temp.next = Node(i)\n",
        "    temp = temp.next\n",
        "\n",
        "# Print actual linked list\n",
        "temp = head\n",
        "while temp:\n",
        "    print(temp.id, end=\" \")\n",
        "    temp = temp.next\n",
        "print()\n",
        "\n",
        "# Reverse the linked list\n",
        "reverse = ReverseLinkedList(head)\n",
        "reverse.reverse()\n",
        "head = reverse.head#Update head to the new reversed head\n",
        "\n",
        "# Print reversed linked list\n",
        "temp = head #temp starts from the new head\n",
        "while temp:\n",
        "    print(temp.id, end=\" \")\n",
        "    temp = temp.next\n"
      ],
      "metadata": {
        "colab": {
          "base_uri": "https://localhost:8080/"
        },
        "id": "gNotMnAVcU18",
        "outputId": "967db7f7-f697-4fff-b58b-0bba6f83577a"
      },
      "execution_count": 3,
      "outputs": [
        {
          "output_type": "stream",
          "name": "stdout",
          "text": [
            "0 1 2 3 4 5 6 7 8 9 10 \n",
            "10 9 8 7 6 5 4 3 2 1 0 "
          ]
        }
      ]
    },
    {
      "cell_type": "code",
      "execution_count": 5,
      "metadata": {
        "id": "XH64jwrBS_ae",
        "colab": {
          "base_uri": "https://localhost:8080/"
        },
        "outputId": "1693267e-537b-4c36-855f-7b062c047d42"
      },
      "outputs": [
        {
          "output_type": "stream",
          "name": "stdout",
          "text": [
            "The relationship is: Sibling\n"
          ]
        }
      ],
      "source": [
        "# @title FLAMES Game\n",
        "#FLAMES Game\n",
        "class Node:\n",
        "    def __init__(self, char):\n",
        "        self.char = char\n",
        "        self.next = None\n",
        "\n",
        "class LinkedList:\n",
        "    def __init__(self):\n",
        "        self.head = None\n",
        "\n",
        "    def append(self, char):\n",
        "        new_node = Node(char)\n",
        "        if not self.head:\n",
        "            self.head = new_node\n",
        "        else:\n",
        "            temp = self.head\n",
        "            while temp.next:\n",
        "                temp = temp.next\n",
        "            temp.next = new_node\n",
        "\n",
        "    def remove_common_letters(self, other):\n",
        "        char_count = {}\n",
        "\n",
        "        #Count occurrences in the first name\n",
        "        temp = self.head\n",
        "        while temp:\n",
        "            char_count[temp.char] = char_count.get(temp.char, 0) + 1\n",
        "            temp = temp.next\n",
        "\n",
        "        #Remove common characters in the second name\n",
        "        temp = other.head\n",
        "        while temp:\n",
        "            if temp.char in char_count and char_count[temp.char] > 0:\n",
        "                char_count[temp.char] -= 1\n",
        "            else:\n",
        "                char_count[temp.char] = char_count.get(temp.char, 0) + 1\n",
        "            temp = temp.next\n",
        "\n",
        "        return sum(char_count.values())\n",
        "\n",
        "class FlamesGame:\n",
        "    def __init__(self, name1, name2):\n",
        "        self.name1 = self.create_linked_list(name1.replace(\" \", \"\").lower())\n",
        "        self.name2 = self.create_linked_list(name2.replace(\" \", \"\").lower())\n",
        "\n",
        "\n",
        "    #Converts a name string into a linked list\n",
        "    def create_linked_list(self, name):\n",
        "\n",
        "        linked_list = LinkedList()\n",
        "        for char in name:\n",
        "            linked_list.append(char)\n",
        "        return linked_list\n",
        "\n",
        "    #Creates a circular linked list for FLAMES\n",
        "    def create_circular_linked_list(self):\n",
        "        flames = \"FLAMES\"\n",
        "        head = Node(flames[0])\n",
        "        temp = head\n",
        "\n",
        "        for char in flames[1:]:\n",
        "            temp.next = Node(char)\n",
        "            temp = temp.next\n",
        "\n",
        "        temp.next = head\n",
        "        return head\n",
        "\n",
        "    def find_relationship(self):\n",
        "        count = self.name1.remove_common_letters(self.name2)\n",
        "        if count == 0:\n",
        "            return \"No Relationship\"\n",
        "\n",
        "        #Create circular linked list for FLAMES\n",
        "        head = self.create_circular_linked_list()\n",
        "        temp = head\n",
        "\n",
        "        #Loop until only one node is left\n",
        "        while temp.next != temp:\n",
        "            for _ in range(count - 1):\n",
        "                temp = temp.next  #forward\n",
        "            temp.next = temp.next.next  #Remove node\n",
        "\n",
        "        return temp.char  #The last remaining character\n",
        "\n",
        "#FLAMES meaning mapping\n",
        "flames_meaning = {\n",
        "    \"F\": \"Friends\",\n",
        "    \"L\": \"Love\",\n",
        "    \"A\": \"Affection\",\n",
        "    \"M\": \"Marriage\",\n",
        "    \"E\": \"Enemy\",\n",
        "    \"S\": \"Sibling\"\n",
        "}\n",
        "\n",
        "#Test\n",
        "# Play game\n",
        "game = FlamesGame(\"Gayathri\",\"Jayanthi\")\n",
        "result = game.find_relationship()\n",
        "print(f\"The relationship is: {flames_meaning.get(result, 'No Relationship')}\")"
      ]
    }
  ],
  "metadata": {
    "colab": {
      "provenance": []
    },
    "kernelspec": {
      "display_name": "Python 3",
      "name": "python3"
    },
    "language_info": {
      "name": "python"
    }
  },
  "nbformat": 4,
  "nbformat_minor": 0
}