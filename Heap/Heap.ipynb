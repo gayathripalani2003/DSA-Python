{
  "nbformat": 4,
  "nbformat_minor": 0,
  "metadata": {
    "colab": {
      "provenance": []
    },
    "kernelspec": {
      "name": "python3",
      "display_name": "Python 3"
    },
    "language_info": {
      "name": "python"
    }
  },
  "cells": [
    {
      "cell_type": "code",
      "execution_count": 19,
      "metadata": {
        "id": "lcUlzjqSWNTa"
      },
      "outputs": [],
      "source": [
        "# Implementation of min heap\n",
        "import math\n",
        "class MinHeap:\n",
        "  def __init__(self):\n",
        "    self.heap = []\n",
        "\n",
        "  def insert(self,val):\n",
        "    self.heap.append(val)\n",
        "    #Heapify it.\n",
        "    i = len(self.heap)-1\n",
        "    while (i > 0  and self.heap[(i-1)//2] > self.heap[i] ):\n",
        "      self.heap[(i-1)//2], self.heap[i] = self.heap[i], self.heap[(i-1)//2]\n",
        "      i = (i-1)//2\n",
        "\n",
        "  def getMin(self):\n",
        "    return self.heap[0] if len(self.heap)!=0 else \"None\"\n",
        "\n",
        "  def PrintHeap(self):\n",
        "    n = len(self.heap)\n",
        "    if n == 0:\n",
        "        print(\"Heap is empty.\")\n",
        "        return\n",
        "\n",
        "    levels = math.floor(math.log2(n)) + 1\n",
        "    index = 0\n",
        "\n",
        "    for i in range(levels):\n",
        "        Nelements = 2 ** i\n",
        "        line = []\n",
        "        for j in range(Nelements):\n",
        "            if index < n:\n",
        "                line.append(str(self.heap[index]))\n",
        "                index += 1\n",
        "        print(\" \".join(line))\n",
        "\n",
        "\n",
        "\n"
      ]
    },
    {
      "cell_type": "code",
      "source": [
        "#Testing of Min heap\n",
        "minHeap = MinHeap()\n",
        "minHeap.insert(1)\n",
        "minHeap.insert(2)\n",
        "minHeap.insert(40)\n",
        "minHeap.insert(22)\n",
        "minHeap.insert(45)\n",
        "minHeap.insert(3)\n",
        "minHeap.insert(9)\n",
        "minElement = minHeap.getMin()\n",
        "print(\"Min Element in the Heap:\", minElement)\n",
        "print(\"Min Heap\")\n",
        "minHeap.PrintHeap()\n"
      ],
      "metadata": {
        "colab": {
          "base_uri": "https://localhost:8080/"
        },
        "id": "2HUhfw3Xc5vi",
        "outputId": "482135ed-2d85-4c78-ae60-d733f1c90438"
      },
      "execution_count": 20,
      "outputs": [
        {
          "output_type": "stream",
          "name": "stdout",
          "text": [
            "Min Element in the Heap: 1\n",
            "Min Heap\n",
            "1\n",
            "2 3\n",
            "22 45 40 9\n"
          ]
        }
      ]
    },
    {
      "cell_type": "code",
      "source": [
        "# Implementation of Max heap\n",
        "import math\n",
        "class MaxHeap:\n",
        "  def __init__(self):\n",
        "    self.heap = []\n",
        "\n",
        "  def insert(self,val):\n",
        "    self.heap.append(val)\n",
        "    #Heapify it.\n",
        "    i = len(self.heap)-1\n",
        "    while (i > 0  and self.heap[(i-1)//2] < self.heap[i] ):\n",
        "      self.heap[(i-1)//2], self.heap[i] = self.heap[i], self.heap[(i-1)//2]\n",
        "      i = (i-1)//2\n",
        "\n",
        "  def getMax(self):\n",
        "    return self.heap[0] if len(self.heap)!=0 else \"None\"\n",
        "\n",
        "  def PrintHeap(self):\n",
        "    n = len(self.heap)\n",
        "    if n == 0:\n",
        "        print(\"Heap is empty.\")\n",
        "        return\n",
        "\n",
        "    levels = math.floor(math.log2(n)) + 1\n",
        "    index = 0\n",
        "\n",
        "    for i in range(levels):\n",
        "        Nelements = 2 ** i\n",
        "        line = []\n",
        "        for j in range(Nelements):\n",
        "            if index < n:\n",
        "                line.append(str(self.heap[index]))\n",
        "                index += 1\n",
        "        print(\" \".join(line))\n",
        "\n",
        "\n",
        "\n"
      ],
      "metadata": {
        "id": "aKpG3PVjgt7f"
      },
      "execution_count": 21,
      "outputs": []
    },
    {
      "cell_type": "code",
      "source": [
        "#Testing of Min heap\n",
        "maxHeap = MaxHeap()\n",
        "maxHeap.insert(1)\n",
        "maxHeap.insert(2)\n",
        "maxHeap.insert(40)\n",
        "maxHeap.insert(22)\n",
        "maxHeap.insert(45)\n",
        "maxHeap.insert(3)\n",
        "maxHeap.insert(9)\n",
        "maxElement = maxHeap.getMax()\n",
        "print(\"Min Element in the Heap:\", maxElement)\n",
        "print(\"Min Heap\")\n",
        "maxHeap.PrintHeap()\n"
      ],
      "metadata": {
        "colab": {
          "base_uri": "https://localhost:8080/"
        },
        "id": "QBNI5vzOg1vX",
        "outputId": "0e9955ca-cd6a-4401-a33a-ff1f19d3dc89"
      },
      "execution_count": 23,
      "outputs": [
        {
          "output_type": "stream",
          "name": "stdout",
          "text": [
            "Min Element in the Heap: 45\n",
            "Min Heap\n",
            "45\n",
            "40 9\n",
            "1 22 2 3\n"
          ]
        }
      ]
    },
    {
      "cell_type": "code",
      "source": [
        "#Heap Sort\n",
        "def heapify(heap, n, i):\n",
        "   maximum = i\n",
        "   l = 2 * i + 1\n",
        "   r = 2 * i + 2\n",
        "   # if left child exists\n",
        "   if l < n and heap[i] < heap[l]:\n",
        "      maximum = l\n",
        "   # if right child exits\n",
        "   if r < n and heap[maximum] < heap[r]:\n",
        "      maximum = r\n",
        "   # root\n",
        "   if maximum != i:\n",
        "      heap[i],heap[maximum] = heap[maximum],heap[i] # swap root.\n",
        "      heapify(heap, n, maximum)\n",
        "def heapSort(heap):\n",
        "   n = len(heap)\n",
        "   # maxheap\n",
        "   for i in range(n, -1, -1):\n",
        "      heapify(heap, n, i)\n",
        "   # element extraction\n",
        "   for i in range(n-1, 0, -1):\n",
        "      heap[i], heap[0] = heap[0], heap[i] # swap\n",
        "      heapify(heap, i, 0)\n",
        "# main\n",
        "heap = [5, 25, 32, 4, 3, 8, 29]\n",
        "heapSort(heap)\n",
        "n = len(heap)\n",
        "print (\"The Sorted array is: \")\n",
        "print(heap)"
      ],
      "metadata": {
        "colab": {
          "base_uri": "https://localhost:8080/"
        },
        "id": "0ysq1DVYiL0E",
        "outputId": "c8b60f07-5e4a-48ce-96bb-e48371f6710b"
      },
      "execution_count": 30,
      "outputs": [
        {
          "output_type": "stream",
          "name": "stdout",
          "text": [
            "The Sorted array is: \n",
            "[3, 4, 5, 8, 25, 29, 32]\n"
          ]
        }
      ]
    },
    {
      "cell_type": "code",
      "source": [
        "#Find Median of the growing array in const time\n",
        "class MedianFinder:\n",
        "    def __init__(self):\n",
        "        self.low = MaxHeap()  #MaxHeap for lower half\n",
        "        self.high = MinHeap() #MinHeap for upper half\n",
        "\n",
        "    def insert(self, num):\n",
        "        # 1: Add to max heap\n",
        "        self.low.insert(num)\n",
        "\n",
        "        # 2: Move the largest from low to high\n",
        "        self.high.insert(self.low.getMax())\n",
        "\n",
        "        # 3: Rebalance if needed\n",
        "        if len(self.low.heap) < len(self.high.heap):\n",
        "            self.low.insert(self.highgetMin())\n",
        "\n",
        "    def getMedian(self):\n",
        "        if len(self.low.heap) == len(self.high.heap):\n",
        "            return (self.low.getMax() + self.high.getMin()) / 2.0\n",
        "        else:\n",
        "            return self.low.getMax()\n",
        "mf = MedianFinder()\n",
        "for x in [5, 15, 1, 3]:\n",
        "    mf.insert(x)\n",
        "    print(\"Median:\", mf.getMedian())\n"
      ],
      "metadata": {
        "colab": {
          "base_uri": "https://localhost:8080/"
        },
        "id": "sPjils1j8Eei",
        "outputId": "844b8954-55c4-41b8-945a-ef370e9ea15d"
      },
      "execution_count": 34,
      "outputs": [
        {
          "output_type": "stream",
          "name": "stdout",
          "text": [
            "Median: 5.0\n",
            "Median: 10.0\n",
            "Median: 10.0\n",
            "Median: 10.0\n"
          ]
        }
      ]
    }
  ]
}