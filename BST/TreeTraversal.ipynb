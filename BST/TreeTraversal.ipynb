{
  "nbformat": 4,
  "nbformat_minor": 0,
  "metadata": {
    "colab": {
      "provenance": []
    },
    "kernelspec": {
      "name": "python3",
      "display_name": "Python 3"
    },
    "language_info": {
      "name": "python"
    }
  },
  "cells": [
    {
      "cell_type": "code",
      "source": [
        "class TreeNode:\n",
        "  def __init__(self, val):\n",
        "    self.data = val\n",
        "    self.left = None\n",
        "    self.right = None"
      ],
      "metadata": {
        "id": "cZWRiTWFIHwF"
      },
      "execution_count": 59,
      "outputs": []
    },
    {
      "cell_type": "code",
      "source": [
        "class BinarySearchTree:\n",
        "  def __init__(self):\n",
        "    self.root = None\n",
        "\n",
        "  def insert(self, val):\n",
        "    newNode = TreeNode(val)\n",
        "    if self.root is None:\n",
        "      self.root = newNode\n",
        "      return \"Root Inserted\"\n",
        "    node = self.root\n",
        "    while True:\n",
        "      if val < node.data:\n",
        "        if node.left is None:\n",
        "          node.left = newNode\n",
        "          return \"Node Inserted\"\n",
        "        else:\n",
        "          node = node.left\n",
        "      else:\n",
        "        if node.right is None:\n",
        "          node.right = newNode\n",
        "          return \"Node Inserted\"\n",
        "        else:\n",
        "          node = node.right\n",
        "\n",
        "  # Binary Search tree Traversal - Inorder (right, root, left)\n",
        "  def inorder_traversal(self, node):\n",
        "    if node:\n",
        "      self.inorder_traversal(node.left)\n",
        "      print(node.data, end=\" \")\n",
        "      self.inorder_traversal(node.right)\n",
        "\n",
        "  # Binary Search tree Traversal - Preorder (root,right,left)\n",
        "  def preorder_traversal(self,node):\n",
        "    if node is None:\n",
        "      return\n",
        "    print(node.data,end=\" \")\n",
        "    self.preorder_traversal(node.left)\n",
        "    self.preorder_traversal(node.right)\n",
        "\n",
        "\n",
        "  # Binary Search tree Traversal - PostOrder (left,right,root)\n",
        "  def postorder_traversal(self,node):\n",
        "    if node is None:\n",
        "      return\n",
        "    self.postorder_traversal(node.left)\n",
        "    self.postorder_traversal(node.right)\n",
        "    print(node.data,end=\" \")\n"
      ],
      "metadata": {
        "id": "71WIH2EDJ_pg"
      },
      "execution_count": 60,
      "outputs": []
    },
    {
      "cell_type": "code",
      "source": [
        "bst = BinarySearchTree()\n",
        "bst.insert(50)\n",
        "bst.insert(30)\n",
        "bst.insert(70)\n",
        "bst.insert(20)\n",
        "bst.insert(40)\n",
        "bst.insert(60)\n",
        "bst.insert(80)\n",
        "\n",
        "# Check BST\n",
        "print(\"Inorder Traversal\")\n",
        "bst.inorder_traversal(bst.root)\n",
        "\n",
        "print(\"\\nPreorder Traversal\")\n",
        "bst.preorder_traversal(bst.root)\n",
        "\n",
        "print(\"\\nPostorder Traversal\")\n",
        "bst.postorder_traversal(bst.root)"
      ],
      "metadata": {
        "colab": {
          "base_uri": "https://localhost:8080/"
        },
        "id": "bH9n8832FE8y",
        "outputId": "dc797b74-7f2d-42d3-cb57-f497c9fdd565"
      },
      "execution_count": 61,
      "outputs": [
        {
          "output_type": "stream",
          "name": "stdout",
          "text": [
            "Inorder Traversal\n",
            "20 30 40 50 60 70 80 \n",
            "Preorder Traversal\n",
            "50 30 20 40 70 60 80 \n",
            "Postorder Traversal\n",
            "20 40 30 60 80 70 50 "
          ]
        }
      ]
    }
  ]
}